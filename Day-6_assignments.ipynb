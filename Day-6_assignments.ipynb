{
 "cells": [
  {
   "cell_type": "markdown",
   "metadata": {},
   "source": [
    "# ASSIGNMENT-1"
   ]
  },
  {
   "cell_type": "code",
   "execution_count": null,
   "metadata": {},
   "outputs": [],
   "source": []
  },
  {
   "cell_type": "code",
   "execution_count": null,
   "metadata": {},
   "outputs": [],
   "source": []
  },
  {
   "cell_type": "markdown",
   "metadata": {},
   "source": [
    "# ASSIGNMENT-2"
   ]
  },
  {
   "cell_type": "code",
   "execution_count": 1,
   "metadata": {},
   "outputs": [
    {
     "name": "stdout",
     "output_type": "stream",
     "text": [
      "Enter radius\n",
      "2\n",
      "Enter height\n",
      "3\n",
      "volume= 12.566370614359172\n",
      "base= 12.566370614359172\n",
      "side= 19.869176531592203\n"
     ]
    }
   ],
   "source": [
    "import math\n",
    "class Cone:\n",
    "    def __init__(self,radius,height):\n",
    "        self.r=radius\n",
    "        self.h=height\n",
    "    def volume(self):\n",
    "        vol=math.pi*(self.r**2)\n",
    "        print('volume=',vol)\n",
    "    def surf_area(self):\n",
    "        base=math.pi*(self.r**2)\n",
    "        print('base=',base)\n",
    "        side=math.pi*self.r*math.sqrt(self.r*2+self.h*2)\n",
    "        print('side=',side)\n",
    "radius=float(input(\"Enter radius\\n\"))\n",
    "height=float(input(\"Enter height\\n\"))\n",
    "c=Cone(radius,height)\n",
    "c.volume()\n",
    "c.surf_area()"
   ]
  },
  {
   "cell_type": "code",
   "execution_count": null,
   "metadata": {},
   "outputs": [],
   "source": []
  }
 ],
 "metadata": {
  "kernelspec": {
   "display_name": "Python 3",
   "language": "python",
   "name": "python3"
  },
  "language_info": {
   "codemirror_mode": {
    "name": "ipython",
    "version": 3
   },
   "file_extension": ".py",
   "mimetype": "text/x-python",
   "name": "python",
   "nbconvert_exporter": "python",
   "pygments_lexer": "ipython3",
   "version": "3.7.4"
  }
 },
 "nbformat": 4,
 "nbformat_minor": 2
}
